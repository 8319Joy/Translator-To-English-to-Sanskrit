{
 "cells": [
  {
   "cell_type": "markdown",
   "id": "a4f828b5",
   "metadata": {},
   "source": [
    "# Translator To English to Sanskrit"
   ]
  },
  {
   "cell_type": "raw",
   "id": "92422ccd",
   "metadata": {},
   "source": [
    "Creating a program that translates English to Sanskrit is a complex task due to the intricacies of both languages, including grammar, syntax, and cultural context. However, I can guide you through a basic implementation using Python and a relevant library or approach.\n",
    "\n",
    "Here’s a simple example of how you might create a basic English to Sanskrit translator. Note that this won't be a fully functional translator but can serve as a foundational template. For actual translation, you would typically need a comprehensive dictionary and grammatical rules.\n",
    "\n",
    "Basic Python Implementation\n",
    "First, you will need a dictionary of English-Sanskrit word pairs. Here’s a simplified version:"
   ]
  },
  {
   "cell_type": "code",
   "execution_count": 2,
   "id": "e08589e9",
   "metadata": {},
   "outputs": [
    {
     "name": "stdout",
     "output_type": "stream",
     "text": [
      "hello -> नमस्ते\n",
      "world -> जगत्\n",
      "thank you -> धन्यवाद\n",
      "friend -> मित्र\n",
      "life -> जीवन\n",
      "unknown -> Translation not found.\n"
     ]
    }
   ],
   "source": [
    "# English to Sanskrit dictionary\n",
    "english_to_sanskrit_dict = {\n",
    "    \"hello\": \"नमस्ते\",\n",
    "    \"world\": \"जगत्\",\n",
    "    \"goodbye\": \"अलविदा\",\n",
    "    \"thank you\": \"धन्यवाद\",\n",
    "    \"yes\": \"हाँ\",\n",
    "    \"no\": \"नहीं\",\n",
    "    \"please\": \"कृपया\",\n",
    "    \"friend\": \"मित्र\",\n",
    "    \"love\": \"प्रेम\",\n",
    "    \"knowledge\": \"ज्ञान\",\n",
    "    \"peace\": \"शांति\",\n",
    "    \"life\": \"जीवन\",\n",
    "    \"death\": \"मृत्यु\",\n",
    "    \"water\": \"जल\",\n",
    "    \"fire\": \"आग्नि\",\n",
    "    \"earth\": \"पृथ्वी\",\n",
    "    \"sky\": \"आसमान\",\n",
    "}\n",
    "\n",
    "# Function to translate English to Sanskrit\n",
    "def translate_to_sanskrit(english_word):\n",
    "    return english_to_sanskrit_dict.get(english_word.lower(), \"Translation not found.\")\n",
    "\n",
    "# Sample usage\n",
    "if __name__ == \"__main__\":\n",
    "    words_to_translate = [\"hello\", \"world\", \"thank you\", \"friend\", \"life\", \"unknown\"]\n",
    "    \n",
    "    for word in words_to_translate:\n",
    "        translation = translate_to_sanskrit(word)\n",
    "        print(f\"{word} -> {translation}\")"
   ]
  },
  {
   "cell_type": "code",
   "execution_count": 10,
   "id": "7703ec2b",
   "metadata": {},
   "outputs": [],
   "source": [
    "import tkinter as tk\n",
    "from tkinter import messagebox\n",
    "\n",
    "# Sample dictionary for translation\n",
    "translation_dict = {\n",
    "    \"hello\": \"नमस्ते\",\n",
    "    \"world\": \"जगत्\",\n",
    "    \"goodbye\": \"अलविदा\",\n",
    "    \"thank you\": \"धन्यवाद\",\n",
    "    # Add more translations as needed\n",
    "    \"yes\": \"हाँ\",\n",
    "    \"no\": \"नहीं\",\n",
    "    \"please\": \"कृपया\",\n",
    "    \"friend\": \"मित्र\",\n",
    "    \"love\": \"प्रेम\",\n",
    "    \"knowledge\": \"ज्ञान\",\n",
    "    \"peace\": \"शांति\",\n",
    "    \"life\": \"जीवन\",\n",
    "    \"death\": \"मृत्यु\",\n",
    "    \"water\": \"जल\",\n",
    "    \"fire\": \"आग्नि\",\n",
    "    \"earth\": \"पृथ्वी\",\n",
    "    \"sky\": \"आसमान\",\n",
    "}\n",
    "\n",
    "def translate():\n",
    "    try:\n",
    "        english_text = entry.get().lower()\n",
    "        # Translate the text using the dictionary\n",
    "        sanskrit_translation = translation_dict.get(english_text, \"Translation not found.\")\n",
    "        \n",
    "        # Display the result in the label\n",
    "        result_label.config(text=sanskrit_translation)\n",
    "    except Exception as e:\n",
    "        messagebox.showerror(\"Error\", str(e))\n",
    "\n",
    "# Create the main application window\n",
    "root = tk.Tk()\n",
    "root.title(\"English to Sanskrit Translator\")\n",
    "\n",
    "# Create and place the entry widget for user input\n",
    "entry = tk.Entry(root, width=50)\n",
    "entry.pack(pady=20)\n",
    "\n",
    "# Create and place the translate button\n",
    "translate_button = tk.Button(root, text=\"Translate\", command=translate)\n",
    "translate_button.pack(pady=10)\n",
    "\n",
    "# Create and place the label for displaying the result\n",
    "result_label = tk.Label(root, text=\"\", font=(\"Helvetica\", 14))\n",
    "result_label.pack(pady=20)\n",
    "\n",
    "# Start the Tkinter event loop\n",
    "root.mainloop()"
   ]
  },
  {
   "cell_type": "raw",
   "id": "1dd144cb",
   "metadata": {},
   "source": [
    "Explanation of the Code:\n",
    "Dictionary Structure: The dictionary english_to_sanskrit_dict contains English words as keys and their Sanskrit translations as values.\n",
    "Translation Function: The function translate_to_sanskrit takes an English word as input, converts it to lowercase (to ensure case insensitivity), and retrieves the Sanskrit equivalent from the dictionary. If the word is not found, it returns \"Translation not found.\"\n",
    "Sample Usage: The sample usage at the bottom demonstrates how to use the translation function. You can replace the words_to_translate list with any words you want to translate."
   ]
  },
  {
   "cell_type": "code",
   "execution_count": null,
   "id": "4a15b702",
   "metadata": {},
   "outputs": [],
   "source": []
  }
 ],
 "metadata": {
  "kernelspec": {
   "display_name": "Python 3 (ipykernel)",
   "language": "python",
   "name": "python3"
  },
  "language_info": {
   "codemirror_mode": {
    "name": "ipython",
    "version": 3
   },
   "file_extension": ".py",
   "mimetype": "text/x-python",
   "name": "python",
   "nbconvert_exporter": "python",
   "pygments_lexer": "ipython3",
   "version": "3.11.4"
  }
 },
 "nbformat": 4,
 "nbformat_minor": 5
}
